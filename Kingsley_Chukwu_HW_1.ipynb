{
 "cells": [
  {
   "cell_type": "code",
   "execution_count": 1,
   "metadata": {},
   "outputs": [],
   "source": [
    "#Homework_1_Kingsley_Chukwu\n",
    "#construction of the mutable struct for door\n",
    "mutable struct Door\n",
    "    open_or_close::String\n",
    "    goat_or_car::String\n",
    "end"
   ]
  },
  {
   "cell_type": "code",
   "execution_count": 146,
   "metadata": {},
   "outputs": [],
   "source": [
    "#for troubleshooting the mutable struct Door\n",
    "#kc = Door(\"open\", \"car\")"
   ]
  },
  {
   "cell_type": "code",
   "execution_count": 147,
   "metadata": {},
   "outputs": [],
   "source": [
    "#for troubleshooting the mutable struct Door\n",
    "#kc.open_or_close"
   ]
  },
  {
   "cell_type": "code",
   "execution_count": 4,
   "metadata": {},
   "outputs": [
    {
     "name": "stdout",
     "output_type": "stream",
     "text": [
      "\u001b[32m\u001b[1m  Updating\u001b[22m\u001b[39m registry at `~/.julia/registries/General`\n",
      "\u001b[32m\u001b[1m  Updating\u001b[22m\u001b[39m git-repo `https://github.com/JuliaRegistries/General.git`\n",
      "\u001b[2K\u001b[?25h[1mFetching:\u001b[22m\u001b[39m [========================================>]  100.0 %.0 %\u001b[32m\u001b[1m Resolving\u001b[22m\u001b[39m package versions...\n",
      "\u001b[32m\u001b[1m  Updating\u001b[22m\u001b[39m `~/.julia/environments/v1.2/Project.toml`\n",
      "\u001b[90m [no changes]\u001b[39m\n",
      "\u001b[32m\u001b[1m  Updating\u001b[22m\u001b[39m `~/.julia/environments/v1.2/Manifest.toml`\n",
      "\u001b[90m [no changes]\u001b[39m\n"
     ]
    }
   ],
   "source": [
    "using Random\n",
    "using Pkg\n",
    "Pkg.add(\"StatsBase\")"
   ]
  },
  {
   "cell_type": "code",
   "execution_count": 51,
   "metadata": {},
   "outputs": [
    {
     "data": {
      "text/plain": [
       "set_up_doors (generic function with 1 method)"
      ]
     },
     "execution_count": 51,
     "metadata": {},
     "output_type": "execute_result"
    }
   ],
   "source": [
    "#construction of the function to set up the doors\n",
    "function set_up_doors()\n",
    "    x = rand(1:3)\n",
    "    door_1 = Door(\"closed\",\"goat\")\n",
    "    door_2 = Door(\"closed\",\"goat\")\n",
    "    door_3 = Door(\"closed\",\"goat\") \n",
    "    #all_doors::Array{Door, 1}\n",
    "    if x == 1\n",
    "        door_1.goat_or_car = \"car\"\n",
    "    elseif x == 2\n",
    "        door_2.goat_or_car = \"car\"\n",
    "    elseif x == 3\n",
    "        door_3.goat_or_car = \"car\"\n",
    "    end\n",
    "    \n",
    "    all_doors = [door_1,door_2,door_3]\n",
    "    return all_doors\n",
    "end"
   ]
  },
  {
   "cell_type": "code",
   "execution_count": 52,
   "metadata": {},
   "outputs": [
    {
     "data": {
      "text/plain": [
       "3-element Array{Door,1}:\n",
       " Door(\"closed\", \"goat\")\n",
       " Door(\"closed\", \"goat\")\n",
       " Door(\"closed\", \"car\") "
      ]
     },
     "execution_count": 52,
     "metadata": {},
     "output_type": "execute_result"
    }
   ],
   "source": [
    "#For troubleshooting an array of mutable struct Door\n",
    "#all_doors = set_up_doors()"
   ]
  },
  {
   "cell_type": "code",
   "execution_count": 56,
   "metadata": {},
   "outputs": [
    {
     "data": {
      "text/plain": [
       "pick_a_door_at_random (generic function with 1 method)"
      ]
     },
     "execution_count": 56,
     "metadata": {},
     "output_type": "execute_result"
    }
   ],
   "source": [
    "#function that picks a door at random, which signifes a player pick a door\n",
    "function pick_a_door_at_random()\n",
    "   x = rand(1:3)\n",
    "    return x\n",
    "end"
   ]
  },
  {
   "cell_type": "code",
   "execution_count": 148,
   "metadata": {},
   "outputs": [],
   "source": [
    "#For troubleshooting the door picked by the player\n",
    "#door_pick_player = pick_a_door_at_random()"
   ]
  },
  {
   "cell_type": "code",
   "execution_count": 85,
   "metadata": {},
   "outputs": [
    {
     "data": {
      "text/plain": [
       "open_a_door! (generic function with 4 methods)"
      ]
     },
     "execution_count": 85,
     "metadata": {},
     "output_type": "execute_result"
    }
   ],
   "source": [
    "#function for the host to pick a door\n",
    "function open_a_door!(doors::Array{Door,1}, first_door_id_pick::Int)\n",
    "    door_pick_host = 0\n",
    "    #println(doors[1].goat_or_car)\n",
    "    xx  = 0\n",
    "    while true\n",
    "        xx = rand(1:3)\n",
    "        if doors[xx].goat_or_car == \"goat\" && first_door_id_pick!=xx\n",
    "            break\n",
    "        end\n",
    "    end \n",
    "    doors[xx].open_or_close = \"opened\"\n",
    "    door_pick_host = xx\n",
    "    return door_pick_host    \n",
    "end"
   ]
  },
  {
   "cell_type": "code",
   "execution_count": 149,
   "metadata": {},
   "outputs": [],
   "source": [
    "#For troubleshooting the door picked by the host\n",
    "#open_a_door!(all_doors, door_pick_player)\n",
    "#all_doors"
   ]
  },
  {
   "cell_type": "code",
   "execution_count": 96,
   "metadata": {},
   "outputs": [
    {
     "data": {
      "text/plain": [
       "switch_door_pick! (generic function with 1 method)"
      ]
     },
     "execution_count": 96,
     "metadata": {},
     "output_type": "execute_result"
    }
   ],
   "source": [
    "#function used to switch doors after host opens the door\n",
    "function switch_door_pick!(doors::Array{Door,1}, first_door_id_pick::Int64)\n",
    "    switch_door = 0\n",
    "    kk = 0\n",
    "    for door in doors\n",
    "        kk +=1\n",
    "        if door.open_or_close == \"closed\" && first_door_id_pick!=kk\n",
    "            break\n",
    "        end\n",
    "    end\n",
    "    switch_door = kk\n",
    "    \n",
    "    return switch_door\n",
    "end"
   ]
  },
  {
   "cell_type": "code",
   "execution_count": 150,
   "metadata": {},
   "outputs": [],
   "source": [
    "#For troubleshooting if the player switched the door\n",
    "#new_door_pick_player = switch_door_pick!(all_doors, door_pick_player)"
   ]
  },
  {
   "cell_type": "code",
   "execution_count": 99,
   "metadata": {},
   "outputs": [
    {
     "data": {
      "text/plain": [
       "contestant_wins_car (generic function with 1 method)"
      ]
     },
     "execution_count": 99,
     "metadata": {},
     "output_type": "execute_result"
    }
   ],
   "source": [
    "#function that determines if the player wins the game or not\n",
    "function contestant_wins_car(doors::Array{Door,1}, door_id_pick::Int)\n",
    "   if doors[door_id_pick].goat_or_car == \"car\"\n",
    "      return true \n",
    "   else\n",
    "      return false\n",
    "   end\n",
    "end"
   ]
  },
  {
   "cell_type": "code",
   "execution_count": 151,
   "metadata": {},
   "outputs": [],
   "source": [
    "#For troubleshooting if the player won the game\n",
    "#contestant_wins_car(all_doors, new_door_pick_player)"
   ]
  },
  {
   "cell_type": "code",
   "execution_count": 141,
   "metadata": {},
   "outputs": [
    {
     "data": {
      "text/plain": [
       "simulate_Monte_Hall (generic function with 1 method)"
      ]
     },
     "execution_count": 141,
     "metadata": {},
     "output_type": "execute_result"
    }
   ],
   "source": [
    "#The function that runs the game\n",
    "function simulate_Monte_Hall(switch::Bool; verbose::Bool=true)\n",
    "all_doors = set_up_doors()\n",
    "door_pick_player = pick_a_door_at_random()  \n",
    "door_pick_host = open_a_door!(all_doors, door_pick_player)\n",
    "new_door_pick_player = door_pick_player\n",
    "if switch == true\n",
    "        new_door_pick_player = switch_door_pick!(all_doors, door_pick_player)\n",
    "end\n",
    "win_the_game = contestant_wins_car(all_doors, new_door_pick_player)\n",
    "if verbose == true\n",
    "        xx = 0\n",
    "  for door in all_doors\n",
    "        xx+=1\n",
    "        println(\"Door_$xx has a \", door.goat_or_car)\n",
    "  end\n",
    "  println(\" \")\n",
    "  println(\"The contestant picked Door_$door_pick_player\")\n",
    "  println(\" \")\n",
    "  println(\"The host picked Door_$door_pick_host\")\n",
    "  if switch == true\n",
    "    println(\" \")\n",
    "    println(\"The contestant switched from Door_$door_pick_player to Door_$new_door_pick_player\") \n",
    "  end\n",
    "  if win_the_game == true\n",
    "    println(\" \")\n",
    "    println(\"The contestant won the game!!!, Yay\")  \n",
    "  else \n",
    "    println(\" \")\n",
    "    println(\"Oh no!!!, The contestant lost the game!!!\") \n",
    "  end            \n",
    "end\n",
    "return win_the_game\n",
    "end"
   ]
  },
  {
   "cell_type": "code",
   "execution_count": 152,
   "metadata": {},
   "outputs": [],
   "source": [
    "#for troubleshooting if the function that runs the whole game works\n",
    "#simulate_Monte_Hall(true; verbose=true)"
   ]
  },
  {
   "cell_type": "code",
   "execution_count": 158,
   "metadata": {},
   "outputs": [
    {
     "name": "stdout",
     "output_type": "stream",
     "text": [
      " \n",
      "For the game where the constestant does not switch the door, the contestant won 342\n",
      " \n",
      "For the game where the constestant switchs the door, the contestant won 691\n"
     ]
    }
   ],
   "source": [
    "nb_sims = 1000\n",
    "won_game_switch = 0\n",
    "won_game_no_switch = 0\n",
    "for s = 1:nb_sims\n",
    "    won_gam_n_s = simulate_Monte_Hall(false, verbose=false)\n",
    "    won_gam_s = simulate_Monte_Hall(true, verbose=false)\n",
    "    if won_gam_n_s == true\n",
    "        won_game_no_switch+=1\n",
    "    end\n",
    "    if won_gam_s == true\n",
    "        won_game_switch+=1\n",
    "    end       \n",
    "end\n",
    "println(\" \")\n",
    "println(\"For the game where the constestant does not switch the door, the contestant won $won_game_no_switch\") \n",
    "println(\" \")\n",
    "println(\"For the game where the constestant switchs the door, the contestant won $won_game_switch\") "
   ]
  },
  {
   "cell_type": "code",
   "execution_count": null,
   "metadata": {},
   "outputs": [],
   "source": []
  }
 ],
 "metadata": {
  "kernelspec": {
   "display_name": "Julia 1.2.0",
   "language": "julia",
   "name": "julia-1.2"
  },
  "language_info": {
   "file_extension": ".jl",
   "mimetype": "application/julia",
   "name": "julia",
   "version": "1.2.0"
  }
 },
 "nbformat": 4,
 "nbformat_minor": 2
}
